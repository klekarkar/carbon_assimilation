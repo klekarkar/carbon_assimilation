{
 "cells": [
  {
   "cell_type": "code",
   "execution_count": 1,
   "metadata": {},
   "outputs": [],
   "source": [
    "import pandas as pd\n",
    "import matplotlib.pyplot as plt\n",
    "import geemap\n",
    "import ee\n",
    "try:\n",
    "        ee.Initialize()\n",
    "except Exception as e:\n",
    "        ee.Authenticate()\n",
    "        ee.Initialize()\n",
    "        "
   ]
  },
  {
   "cell_type": "markdown",
   "metadata": {},
   "source": [
    "#### Import ImageCollection"
   ]
  },
  {
   "cell_type": "code",
   "execution_count": 2,
   "metadata": {},
   "outputs": [
    {
     "data": {
      "text/html": [
       "\n",
       "            <style>\n",
       "                .geemap-dark {\n",
       "                    --jp-widgets-color: white;\n",
       "                    --jp-widgets-label-color: white;\n",
       "                    --jp-ui-font-color1: white;\n",
       "                    --jp-layout-color2: #454545;\n",
       "                    background-color: #383838;\n",
       "                }\n",
       "\n",
       "                .geemap-dark .jupyter-button {\n",
       "                    --jp-layout-color3: #383838;\n",
       "                }\n",
       "\n",
       "                .geemap-colab {\n",
       "                    background-color: var(--colab-primary-surface-color, white);\n",
       "                }\n",
       "\n",
       "                .geemap-colab .jupyter-button {\n",
       "                    --jp-layout-color3: var(--colab-primary-surface-color, white);\n",
       "                }\n",
       "            </style>\n",
       "            "
      ],
      "text/plain": [
       "<IPython.core.display.HTML object>"
      ]
     },
     "metadata": {},
     "output_type": "display_data"
    }
   ],
   "source": [
    "# image collection\n",
    "imageCollection = ee.ImageCollection(\"MODIS/061/MCD12Q1\").filter(ee.Filter.date('2017-01-01', '2018-01-01'))\n",
    "\n",
    "# Get a list of all the image IDs (I'll use it to fetch images directly using ee.Image())\n",
    "image_ids = imageCollection.aggregate_array(\"system:id\").getInfo()\n",
    "\n",
    "#get the first image and gather bandnames\n",
    "bandNames=ee.Image(image_ids[0]).bandNames().getInfo()\n",
    "\n",
    "# Boundary of region of interest\n",
    "roi = ee.Geometry.Rectangle([27, -30, 28, -27]) #xmin, ymin, xmax, ymax\n",
    "point_roi=ee.Geometry.Point(1, 36.5)\n",
    "\n",
    "# Function to mask all values outside the geometry\n",
    "def maskOutside(image, geometry):\n",
    "    mask = ee.Image.constant(1).clip(geometry).mask() # add .not() to mask inside\n",
    "    return image.updateMask(mask)"
   ]
  },
  {
   "cell_type": "markdown",
   "metadata": {},
   "source": [
    "#### Get bandNames"
   ]
  },
  {
   "cell_type": "code",
   "execution_count": 3,
   "metadata": {},
   "outputs": [
    {
     "data": {
      "text/html": [
       "\n",
       "            <style>\n",
       "                .geemap-dark {\n",
       "                    --jp-widgets-color: white;\n",
       "                    --jp-widgets-label-color: white;\n",
       "                    --jp-ui-font-color1: white;\n",
       "                    --jp-layout-color2: #454545;\n",
       "                    background-color: #383838;\n",
       "                }\n",
       "\n",
       "                .geemap-dark .jupyter-button {\n",
       "                    --jp-layout-color3: #383838;\n",
       "                }\n",
       "\n",
       "                .geemap-colab {\n",
       "                    background-color: var(--colab-primary-surface-color, white);\n",
       "                }\n",
       "\n",
       "                .geemap-colab .jupyter-button {\n",
       "                    --jp-layout-color3: var(--colab-primary-surface-color, white);\n",
       "                }\n",
       "            </style>\n",
       "            "
      ],
      "text/plain": [
       "<IPython.core.display.HTML object>"
      ]
     },
     "metadata": {},
     "output_type": "display_data"
    },
    {
     "data": {
      "text/plain": [
       "['LC_Type1']"
      ]
     },
     "execution_count": 3,
     "metadata": {},
     "output_type": "execute_result"
    }
   ],
   "source": [
    "#get the first image and gather bandnames of interest\n",
    "subset_bands=[band for band in bandNames if band.startswith(('LC_Type1'))]\n",
    "subset_bands\n",
    "#filter imagecollection to select bands of interest\n",
    "select_bands=imageCollection.select(subset_bands)\n",
    "\n",
    "subset_bands"
   ]
  },
  {
   "cell_type": "markdown",
   "metadata": {},
   "source": [
    "### Resample to monthly averages (Optional)"
   ]
  },
  {
   "cell_type": "code",
   "execution_count": null,
   "metadata": {},
   "outputs": [],
   "source": [
    "#resample image collection to monthly means\n",
    "def aggregate_monthly(year, month):\n",
    "    start_date = ee.Date.fromYMD(year, month, 1)\n",
    "    end_date = start_date.advance(1, 'month')\n",
    "    \n",
    "    # Filter the image collection to the specific month\n",
    "    monthly_images = select_bands.filterDate(start_date, end_date)\n",
    "    \n",
    "    # Apply a mean reducer\n",
    "    monthly_mean = monthly_images.mean().set('system:time_start', start_date.millis())\n",
    "    \n",
    "    return monthly_mean\n",
    "\n",
    "# Define the date range for aggregation\n",
    "start_year = 2003\n",
    "end_year = 2020\n",
    "\n",
    "# Create a list of months for each year\n",
    "months = ee.List.sequence(1, 12)\n",
    "years = ee.List.sequence(start_year, end_year)\n",
    "\n",
    "# Map over the years and months to generate the monthly aggregated images\n",
    "monthly_images = years.map(lambda y: months.map(lambda m: aggregate_monthly(ee.Number(y), ee.Number(m))))\n",
    "\n",
    "# Flatten the list of lists to a single image collection\n",
    "monthly_image_collection = ee.ImageCollection(ee.List(monthly_images).flatten())"
   ]
  },
  {
   "cell_type": "code",
   "execution_count": null,
   "metadata": {},
   "outputs": [],
   "source": [
    "aggregate_monthly(2003, 1)"
   ]
  },
  {
   "cell_type": "markdown",
   "metadata": {},
   "source": [
    "## Extracting timeseries data from a select region\n",
    "\n",
    "> GEE plotting UI is not available for python. So a work around is needed  \n",
    "> Extract data as pandas df for plotting  \n",
    "> Get images in collection and average the data in the region of interest \n",
    ">\n",
    "> Ref: https://worldbank.github.io/OpenNightLights/tutorials/mod4_1_time_series_charts.html"
   ]
  },
  {
   "cell_type": "code",
   "execution_count": 7,
   "metadata": {},
   "outputs": [
    {
     "data": {
      "text/html": [
       "\n",
       "            <style>\n",
       "                .geemap-dark {\n",
       "                    --jp-widgets-color: white;\n",
       "                    --jp-widgets-label-color: white;\n",
       "                    --jp-ui-font-color1: white;\n",
       "                    --jp-layout-color2: #454545;\n",
       "                    background-color: #383838;\n",
       "                }\n",
       "\n",
       "                .geemap-dark .jupyter-button {\n",
       "                    --jp-layout-color3: #383838;\n",
       "                }\n",
       "\n",
       "                .geemap-colab {\n",
       "                    background-color: var(--colab-primary-surface-color, white);\n",
       "                }\n",
       "\n",
       "                .geemap-colab .jupyter-button {\n",
       "                    --jp-layout-color3: var(--colab-primary-surface-color, white);\n",
       "                }\n",
       "            </style>\n",
       "            "
      ],
      "text/plain": [
       "<IPython.core.display.HTML object>"
      ]
     },
     "metadata": {},
     "output_type": "display_data"
    }
   ],
   "source": [
    "bands = subset_bands #['SoilMoi00_10cm_tavg', 'SoilMoi10_40cm_tavg', 'SoilMoi40_100cm_tavg', 'SoilMoi100_200cm_tavg']\n",
    "\n",
    "# Boundary of region of interest\n",
    "roi = ee.Geometry.Rectangle([33.8, -0.5, 39.8, 5.0]) #xmin, ymin, xmax, ymax\n",
    "\"\"\"change Sscale according to resolution of dataset\"\"\"\n",
    "scale = 5600  \n",
    "\n",
    "def roi_mean(img):\n",
    "    mean = img.reduceRegion(reducer=ee.Reducer.mean(), geometry=roi, scale=scale).get(band)\n",
    "    return img.set('date', img.date().format()).set(band,mean) #set band name as mean\n",
    "\n",
    "df_list = []\n",
    "for band in bands:\n",
    "\n",
    "    #clip the image collection to the region of interest\n",
    "    \"\"\"pass the image collection of interest here\"\"\"\n",
    "    imc_region = select_bands.map(lambda img: maskOutside(img, roi))\n",
    "\n",
    "    #map the function over the image collection\n",
    "    roi_means = imc_region.map(roi_mean)\n",
    "\n",
    "    #reduce the collection to a list\n",
    "    poi_means_list = roi_means.reduceColumns(ee.Reducer.toList(2), ['date', band]).values().get(0)\n",
    "\n",
    "    #convert nested lists to pandas dataframe to retrieve data\n",
    "    df = pd.DataFrame(poi_means_list.getInfo(), columns=['date', band])\n",
    "    df['date'] = pd.to_datetime(df['date'])\n",
    "    df = df.set_index('date')\n",
    "\n",
    "    df_list.append(df)\n",
    "\n",
    "#concatenate the dataframes\n",
    "df_bands= pd.concat(df_list, axis=1)"
   ]
  },
  {
   "cell_type": "code",
   "execution_count": 15,
   "metadata": {},
   "outputs": [
    {
     "data": {
      "text/html": [
       "\n",
       "            <style>\n",
       "                .geemap-dark {\n",
       "                    --jp-widgets-color: white;\n",
       "                    --jp-widgets-label-color: white;\n",
       "                    --jp-ui-font-color1: white;\n",
       "                    --jp-layout-color2: #454545;\n",
       "                    background-color: #383838;\n",
       "                }\n",
       "\n",
       "                .geemap-dark .jupyter-button {\n",
       "                    --jp-layout-color3: #383838;\n",
       "                }\n",
       "\n",
       "                .geemap-colab {\n",
       "                    background-color: var(--colab-primary-surface-color, white);\n",
       "                }\n",
       "\n",
       "                .geemap-colab .jupyter-button {\n",
       "                    --jp-layout-color3: var(--colab-primary-surface-color, white);\n",
       "                }\n",
       "            </style>\n",
       "            "
      ],
      "text/plain": [
       "<IPython.core.display.HTML object>"
      ]
     },
     "metadata": {},
     "output_type": "display_data"
    },
    {
     "data": {
      "text/plain": [
       "LE    0\n",
       "dtype: int64"
      ]
     },
     "execution_count": 15,
     "metadata": {},
     "output_type": "execute_result"
    }
   ],
   "source": [
    "df_bands.isnull().sum()"
   ]
  },
  {
   "cell_type": "code",
   "execution_count": 16,
   "metadata": {},
   "outputs": [
    {
     "data": {
      "text/html": [
       "\n",
       "            <style>\n",
       "                .geemap-dark {\n",
       "                    --jp-widgets-color: white;\n",
       "                    --jp-widgets-label-color: white;\n",
       "                    --jp-ui-font-color1: white;\n",
       "                    --jp-layout-color2: #454545;\n",
       "                    background-color: #383838;\n",
       "                }\n",
       "\n",
       "                .geemap-dark .jupyter-button {\n",
       "                    --jp-layout-color3: #383838;\n",
       "                }\n",
       "\n",
       "                .geemap-colab {\n",
       "                    background-color: var(--colab-primary-surface-color, white);\n",
       "                }\n",
       "\n",
       "                .geemap-colab .jupyter-button {\n",
       "                    --jp-layout-color3: var(--colab-primary-surface-color, white);\n",
       "                }\n",
       "            </style>\n",
       "            "
      ],
      "text/plain": [
       "<IPython.core.display.HTML object>"
      ]
     },
     "metadata": {},
     "output_type": "display_data"
    },
    {
     "data": {
      "image/png": "[encoded data removed]",
      "text/plain": [
       "<Figure size 1400x250 with 1 Axes>"
      ]
     },
     "metadata": {},
     "output_type": "display_data"
    }
   ],
   "source": [
    "fig,ax=plt.subplots(figsize=(14,2.5))\n",
    "plt.plot(df_bands, label=df_bands.columns);\n",
    "#plt.ylim(0.1, 0.5);\n",
    "plt.legend(bands, loc='upper left', ncol=2);"
   ]
  },
  {
   "cell_type": "markdown",
   "metadata": {},
   "source": [
    "#### Bulk download original ImageCollection Tiffs with native projection\n",
    "\n",
    "> Specify bands to download if multiple"
   ]
  },
  {
   "cell_type": "code",
   "execution_count": 17,
   "metadata": {},
   "outputs": [
    {
     "data": {
      "text/html": [
       "\n",
       "            <style>\n",
       "                .geemap-dark {\n",
       "                    --jp-widgets-color: white;\n",
       "                    --jp-widgets-label-color: white;\n",
       "                    --jp-ui-font-color1: white;\n",
       "                    --jp-layout-color2: #454545;\n",
       "                    background-color: #383838;\n",
       "                }\n",
       "\n",
       "                .geemap-dark .jupyter-button {\n",
       "                    --jp-layout-color3: #383838;\n",
       "                }\n",
       "\n",
       "                .geemap-colab {\n",
       "                    background-color: var(--colab-primary-surface-color, white);\n",
       "                }\n",
       "\n",
       "                .geemap-colab .jupyter-button {\n",
       "                    --jp-layout-color3: var(--colab-primary-surface-color, white);\n",
       "                }\n",
       "            </style>\n",
       "            "
      ],
      "text/plain": [
       "<IPython.core.display.HTML object>"
      ]
     },
     "metadata": {},
     "output_type": "display_data"
    },
    {
     "name": "stdout",
     "output_type": "stream",
     "text": [
      "Exporting MODIS_2023_12_27_LE...\r"
     ]
    }
   ],
   "source": [
    "# Download each image with both layers: sm_surface and sm_rootzone\n",
    "\"\"\"name of folder in Google Drive\"\"\"\n",
    "download_folder = \"MODIS_LH_Flux\" \n",
    "bands = subset_bands\n",
    "\n",
    "for image_id in image_ids:\n",
    "    image = ee.Image(image_id).select(bands).clip(roi)\n",
    "\n",
    "    # Replace all values outside region with -9999\n",
    "    image = maskOutside(image, roi).unmask(-9999)\n",
    "\n",
    "    # Get the original CRS and geotransform of the image\n",
    "    proj = image.projection().getInfo()\n",
    "\n",
    "    # Export each band separately with a unique filename\n",
    "    for band in bands:\n",
    "        # Create a filename for the downloaded image\n",
    "        filename = f\"{image_id.split('/')[0]}_{image_id.split('/')[-1]}_{band}\"\n",
    "\n",
    "        # Export the image with the original CRS and geotransform\n",
    "        task = ee.batch.Export.image.toDrive(\n",
    "            image=image.select(band),\n",
    "            region=roi,\n",
    "            description=filename,\n",
    "            folder=download_folder,\n",
    "            crs=proj[\"crs\"],\n",
    "            crsTransform=proj[\"transform\"],\n",
    "            maxPixels=1e13,\n",
    "            fileFormat=\"GeoTIFF\"\n",
    "        )\n",
    "        task.start()\n",
    "        print(f\"Exporting {filename}...\", end=\"\\r\")"
   ]
  },
  {
   "cell_type": "markdown",
   "metadata": {},
   "source": [
    "##### Get CRS and scale of images"
   ]
  },
  {
   "cell_type": "code",
   "execution_count": 4,
   "metadata": {},
   "outputs": [
    {
     "data": {
      "text/html": [
       "\n",
       "            <style>\n",
       "                .geemap-dark {\n",
       "                    --jp-widgets-color: white;\n",
       "                    --jp-widgets-label-color: white;\n",
       "                    --jp-ui-font-color1: white;\n",
       "                    --jp-layout-color2: #454545;\n",
       "                    background-color: #383838;\n",
       "                }\n",
       "\n",
       "                .geemap-dark .jupyter-button {\n",
       "                    --jp-layout-color3: #383838;\n",
       "                }\n",
       "\n",
       "                .geemap-colab {\n",
       "                    background-color: var(--colab-primary-surface-color, white);\n",
       "                }\n",
       "\n",
       "                .geemap-colab .jupyter-button {\n",
       "                    --jp-layout-color3: var(--colab-primary-surface-color, white);\n",
       "                }\n",
       "            </style>\n",
       "            "
      ],
      "text/plain": [
       "<IPython.core.display.HTML object>"
      ]
     },
     "metadata": {},
     "output_type": "display_data"
    },
    {
     "data": {
      "text/plain": [
       "463.3127165279165"
      ]
     },
     "execution_count": 4,
     "metadata": {},
     "output_type": "execute_result"
    }
   ],
   "source": [
    "#extract projection information\n",
    "image=ee.Image(image_ids[0])\n",
    "projection=image.projection().getInfo()\n",
    "\n",
    "target_scale=projection['transform'][0]\n",
    "target_scale"
   ]
  },
  {
   "cell_type": "code",
   "execution_count": 5,
   "metadata": {},
   "outputs": [
    {
     "data": {
      "text/html": [
       "\n",
       "            <style>\n",
       "                .geemap-dark {\n",
       "                    --jp-widgets-color: white;\n",
       "                    --jp-widgets-label-color: white;\n",
       "                    --jp-ui-font-color1: white;\n",
       "                    --jp-layout-color2: #454545;\n",
       "                    background-color: #383838;\n",
       "                }\n",
       "\n",
       "                .geemap-dark .jupyter-button {\n",
       "                    --jp-layout-color3: #383838;\n",
       "                }\n",
       "\n",
       "                .geemap-colab {\n",
       "                    background-color: var(--colab-primary-surface-color, white);\n",
       "                }\n",
       "\n",
       "                .geemap-colab .jupyter-button {\n",
       "                    --jp-layout-color3: var(--colab-primary-surface-color, white);\n",
       "                }\n",
       "            </style>\n",
       "            "
      ],
      "text/plain": [
       "<IPython.core.display.HTML object>"
      ]
     },
     "metadata": {},
     "output_type": "display_data"
    },
    {
     "data": {
      "text/plain": [
       "'MODIS/061/MCD12Q1/2017_01_01'"
      ]
     },
     "execution_count": 5,
     "metadata": {},
     "output_type": "execute_result"
    }
   ],
   "source": [
    "image_ids[0]"
   ]
  },
  {
   "cell_type": "code",
   "execution_count": 6,
   "metadata": {},
   "outputs": [
    {
     "data": {
      "text/html": [
       "\n",
       "            <style>\n",
       "                .geemap-dark {\n",
       "                    --jp-widgets-color: white;\n",
       "                    --jp-widgets-label-color: white;\n",
       "                    --jp-ui-font-color1: white;\n",
       "                    --jp-layout-color2: #454545;\n",
       "                    background-color: #383838;\n",
       "                }\n",
       "\n",
       "                .geemap-dark .jupyter-button {\n",
       "                    --jp-layout-color3: #383838;\n",
       "                }\n",
       "\n",
       "                .geemap-colab {\n",
       "                    background-color: var(--colab-primary-surface-color, white);\n",
       "                }\n",
       "\n",
       "                .geemap-colab .jupyter-button {\n",
       "                    --jp-layout-color3: var(--colab-primary-surface-color, white);\n",
       "                }\n",
       "            </style>\n",
       "            "
      ],
      "text/plain": [
       "<IPython.core.display.HTML object>"
      ]
     },
     "metadata": {},
     "output_type": "display_data"
    },
    {
     "data": {
      "text/plain": [
       "{'type': 'Projection',\n",
       " 'crs': 'SR-ORG:6974',\n",
       " 'transform': [463.3127165279165,\n",
       "  0,\n",
       "  -20015109.354,\n",
       "  0,\n",
       "  -463.3127165279167,\n",
       "  10007554.677003]}"
      ]
     },
     "execution_count": 6,
     "metadata": {},
     "output_type": "execute_result"
    }
   ],
   "source": [
    "projection"
   ]
  },
  {
   "cell_type": "markdown",
   "metadata": {},
   "source": [
    "#### Bulk download original imageCollection with specific projection\n",
    "\n",
    "> The target scale property is derived from the geotransform of the images i.e. by running image.projection().getInfo()\n",
    "> The resolution also has to be changed"
   ]
  },
  {
   "cell_type": "code",
   "execution_count": null,
   "metadata": {},
   "outputs": [],
   "source": [
    "bands = subset_bands\n",
    "download_folder = 'SMAP_L4_2016_'  # name of folder in Google Drive\n",
    "\n",
    "# Define the EPSG:4326 projection with appropriate scale\n",
    "target_projection = 'EPSG:4326'\n",
    "target_scale = #463.3127165279165 to latlon\n",
    "target_scale = \n",
    "\n",
    "for image_id in image_ids:\n",
    "    image = ee.Image(image_id).select(bands).clip(roi)\n",
    "\n",
    "    # Replace all values outside the region with -9999\n",
    "    image = maskOutside(image, roi).unmask(-9999)\n",
    "\n",
    "    # Export each band separately with a unique filename\n",
    "    for band in bands:\n",
    "        # Create a filename for the downloaded image\n",
    "        filename = f\"{image_id.split('/')[0]}_{image_id.split('/')[-1]}_{band}\"\n",
    "\n",
    "        # Export the image with the EPSG:4326 projection and specified scale\n",
    "        task = ee.batch.Export.image.toDrive(\n",
    "            image=image.select(band).reproject(crs=target_projection, scale=target_scale),\n",
    "            region=roi,\n",
    "            description=filename,\n",
    "            folder=download_folder,\n",
    "            crs=target_projection,\n",
    "            scale=target_scale,\n",
    "            maxPixels=1e13,\n",
    "            fileFormat=\"GeoTIFF\"\n",
    "        )\n",
    "        task.start()\n",
    "        print(f\"Exporting {filename}...\", end=\"\\r\")"
   ]
  },
  {
   "cell_type": "markdown",
   "metadata": {},
   "source": [
    "### Bulk Download Resampled image collection"
   ]
  },
  {
   "cell_type": "code",
   "execution_count": null,
   "metadata": {},
   "outputs": [],
   "source": [
    "image_list = monthly_image_collection.toList(monthly_image_collection.size())\n",
    "\n",
    "bands = bands  # Example band names\n",
    "download_folder = \"plm_v2_GPP_ET\"  # Name of folder in Google Drive\n",
    "scale = target_scale  # Change according to resolution of dataset\n",
    "\n",
    "# Loop through each image in the list\n",
    "for i in range(image_list.size().getInfo()):\n",
    "    image = ee.Image(image_list.get(i))\n",
    "    image = image.select(bands).clip(roi)\n",
    "\n",
    "    # Replace all values outside region with -9999\n",
    "    image = maskOutside(image, roi).unmask(-9999)\n",
    "\n",
    "    # Get the timestamp and format it\n",
    "    timestamp = ee.Date(image.get('system:time_start')).format('yyyy-MM-dd').getInfo()\n",
    "\n",
    "    # Get the original CRS and geotransform of the image\n",
    "    proj = image.projection().getInfo()\n",
    "\n",
    "    # Export each band separately with a unique filename\n",
    "    for band in bands:\n",
    "        # Create a filename for the downloaded image including timestamp\n",
    "        filename = f\"{timestamp}_{band}\"\n",
    "\n",
    "        # Export the image with the original CRS and geotransform\n",
    "        task = ee.batch.Export.image.toDrive(\n",
    "            image=image.select(band),\n",
    "            region=roi,\n",
    "            scale=scale,\n",
    "            description=filename,\n",
    "            folder=download_folder,\n",
    "            crs=proj[\"crs\"],\n",
    "            crsTransform=proj[\"transform\"],\n",
    "            maxPixels=1e13,\n",
    "            fileFormat=\"GeoTIFF\"\n",
    "        )\n",
    "        task.start()\n",
    "\n",
    "        print(f\"Exporting {filename}...\", end=\"\\r\")\n",
    "\n",
    "print(\"\\nAll tasks started.\")"
   ]
  },
  {
   "cell_type": "markdown",
   "metadata": {},
   "source": [
    "### Cancelling tasks"
   ]
  },
  {
   "cell_type": "code",
   "execution_count": 18,
   "metadata": {},
   "outputs": [
    {
     "data": {
      "text/html": [
       "\n",
       "            <style>\n",
       "                .geemap-dark {\n",
       "                    --jp-widgets-color: white;\n",
       "                    --jp-widgets-label-color: white;\n",
       "                    --jp-ui-font-color1: white;\n",
       "                    --jp-layout-color2: #454545;\n",
       "                    background-color: #383838;\n",
       "                }\n",
       "\n",
       "                .geemap-dark .jupyter-button {\n",
       "                    --jp-layout-color3: #383838;\n",
       "                }\n",
       "\n",
       "                .geemap-colab {\n",
       "                    background-color: var(--colab-primary-surface-color, white);\n",
       "                }\n",
       "\n",
       "                .geemap-colab .jupyter-button {\n",
       "                    --jp-layout-color3: var(--colab-primary-surface-color, white);\n",
       "                }\n",
       "            </style>\n",
       "            "
      ],
      "text/plain": [
       "<IPython.core.display.HTML object>"
      ]
     },
     "metadata": {},
     "output_type": "display_data"
    },
    {
     "name": "stdout",
     "output_type": "stream",
     "text": [
      "All tasks cancelled.LP5DXMSSO7XP3ROOYAMU\n"
     ]
    }
   ],
   "source": [
    "# Get a list of all tasks\n",
    "tasks = ee.batch.Task.list()\n",
    "\n",
    "# Cancel all tasks\n",
    "for task in tasks:\n",
    "    if task.state in ['RUNNING', 'READY']:\n",
    "        print(f\"Cancelling task {task.id}\", end=\"\\r\")\n",
    "        task.cancel()\n",
    "print(\"All tasks cancelled.\")"
   ]
  }
 ],
 "metadata": {
  "kernelspec": {
   "display_name": "multipurpose",
   "language": "python",
   "name": "python3"
  },
  "language_info": {
   "codemirror_mode": {
    "name": "ipython",
    "version": 3
   },
   "file_extension": ".py",
   "mimetype": "text/x-python",
   "name": "python",
   "nbconvert_exporter": "python",
   "pygments_lexer": "ipython3",
   "version": "3.9.19"
  }
 },
 "nbformat": 4,
 "nbformat_minor": 2
}
