{
 "cells": [
  {
   "cell_type": "code",
   "execution_count": null,
   "metadata": {},
   "outputs": [],
   "source": [
    "import glob\n",
    "import xarray as xr"
   ]
  },
  {
   "cell_type": "code",
   "execution_count": null,
   "metadata": {},
   "outputs": [],
   "source": [
    "co2_files = glob.glob(r\"D:\\VUB\\_data\\NOAA_CO2\\*.nc\")\n",
    "#'level' refers to vertical atmospheric levels, we are interested in the surface level, 1\n",
    "co2_monthly = []\n",
    "for file in co2_files:\n",
    "    with xr.open_dataset(file) as ds:\n",
    "        co2 = ds['co2'].sel(level=1)\n",
    "\n",
    "        #clip to East Africa\n",
    "        co2 = co2.sel(latitude=slice(-10, 20), longitude=slice(30, 50))\n",
    "        #rename latitudes and longitudes\n",
    "        co2 = co2.rename({'latitude': 'lat', 'longitude': 'lon'})\n",
    "        print('appending', file, end = '\\r')\n",
    "        co2_monthly.append(co2)\n",
    "\n",
    "co2_monthly = xr.concat(co2_monthly, dim='time')\n",
    "\n",
    "co2_monthly.to_netcdf(r\"D:\\VUB\\_data\\nc_files\\co2_monthly_2000_2021.nc\")"
   ]
  }
 ],
 "metadata": {
  "language_info": {
   "name": "python"
  }
 },
 "nbformat": 4,
 "nbformat_minor": 2
}
