{
 "cells": [
  {
   "cell_type": "code",
   "execution_count": 24,
   "metadata": {},
   "outputs": [],
   "source": [
    "from collections import Counter\n",
    "import glob\n",
    "import os"
   ]
  },
  {
   "cell_type": "code",
   "execution_count": 25,
   "metadata": {},
   "outputs": [],
   "source": [
    "files = glob.glob(r'E:\\_data\\vegetation_dynamics_EA\\HDF_FILES\\MODIS_ET/*.hdf')\n",
    "\n",
    "date_list= []\n",
    "for file in files:\n",
    "    date = os.path.basename(file).split('.')[1]\n",
    "    date_list.append(date)\n",
    "\n",
    "#count the number of times each date appears\n",
    "date_count = Counter(date_list)\n",
    "\n",
    "\n",
    "#check which dates have 3 counts or whatever number of counts\n",
    "dates = []\n",
    "for key, value in date_count.items():\n",
    "    if value != 4:\n",
    "        dates.append(key)"
   ]
  },
  {
   "cell_type": "code",
   "execution_count": 29,
   "metadata": {},
   "outputs": [],
   "source": [
    "#convert jdoy to date\n",
    "doy = 201001\n",
    "\n",
    "import datetime\n",
    "date = datetime.datetime.strptime(str(doy), '%Y%j').date()"
   ]
  },
  {
   "cell_type": "code",
   "execution_count": 30,
   "metadata": {},
   "outputs": [
    {
     "data": {
      "text/plain": [
       "datetime.date(2010, 1, 1)"
      ]
     },
     "execution_count": 30,
     "metadata": {},
     "output_type": "execute_result"
    }
   ],
   "source": [
    "date"
   ]
  }
 ],
 "metadata": {
  "kernelspec": {
   "display_name": "py_data_analysis",
   "language": "python",
   "name": "python3"
  },
  "language_info": {
   "codemirror_mode": {
    "name": "ipython",
    "version": 3
   },
   "file_extension": ".py",
   "mimetype": "text/x-python",
   "name": "python",
   "nbconvert_exporter": "python",
   "pygments_lexer": "ipython3",
   "version": "3.9.19"
  }
 },
 "nbformat": 4,
 "nbformat_minor": 2
}
