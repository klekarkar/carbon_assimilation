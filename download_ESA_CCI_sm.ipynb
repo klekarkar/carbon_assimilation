{
 "cells": [
  {
   "cell_type": "code",
   "execution_count": 1,
   "metadata": {},
   "outputs": [],
   "source": [
    "import os\n",
    "import requests\n",
    "import glob\n",
    "import xarray as xr\n",
    "from datetime import datetime, timedelta\n",
    "import warnings\n",
    "\n",
    "# Ignore RuntimeWarnings\n",
    "warnings.filterwarnings(\"ignore\", category=RuntimeWarning)"
   ]
  },
  {
   "cell_type": "code",
   "execution_count": null,
   "metadata": {},
   "outputs": [],
   "source": [
    "# Base URL\n",
    "base_url = \"https://data.ceda.ac.uk/neodc/esacci/soil_moisture/data/daily_files/COMBINED/v08.1/\"\n",
    "\n",
    "# Directory where files will be saved\n",
    "download_dir = r\"D:/VUB/_data/esa_cci_sm\""
   ]
  },
  {
   "cell_type": "code",
   "execution_count": null,
   "metadata": {},
   "outputs": [],
   "source": [
    "# Create the download directory if it does not exist\n",
    "if not os.path.exists(download_dir):\n",
    "    os.makedirs(download_dir)\n",
    "\n",
    "# Define the date range\n",
    "start_date = datetime(2000, 1, 1)\n",
    "end_date = datetime(2022, 12, 31)\n",
    "\n",
    "# Iterate through each day in the date range\n",
    "current_date = start_date\n",
    "while current_date <= end_date:\n",
    "    # Format the filename based on the date\n",
    "    date_str = current_date.strftime(\"%Y%m%d000000\")\n",
    "    year_str = current_date.strftime(\"%Y\")\n",
    "    filename = f\"ESACCI-SOILMOISTURE-L3S-SSMV-COMBINED-{date_str}-fv08.1.nc\"\n",
    "    \n",
    "    # Complete URL for the file\n",
    "    file_url = f\"{base_url}{year_str}/{filename}\"\n",
    "    \n",
    "    # Download the file\n",
    "    response = requests.get(file_url)\n",
    "    \n",
    "    # Check if the request was successful\n",
    "    if response.status_code == 200:\n",
    "        with open(os.path.join(download_dir, filename), 'wb') as f:\n",
    "            f.write(response.content)\n",
    "        print(f\"Downloaded: {filename}\", end=\"\\r\")\n",
    "    else:\n",
    "        print(f\"Failed to download: {filename} (Status Code: {response.status_code})\", end=\"\\r\")\n",
    "    \n",
    "    # Move to the next day\n",
    "    current_date += timedelta(days=1)"
   ]
  },
  {
   "cell_type": "markdown",
   "metadata": {},
   "source": [
    "#### Extract region of interest and merge"
   ]
  },
  {
   "cell_type": "code",
   "execution_count": null,
   "metadata": {},
   "outputs": [],
   "source": [
    "#esa_cci_sm\n",
    "files = glob.glob(r\"D:\\VUB\\_data\\esa_cci_sm\\*.nc\")\n",
    "files.sort()\n",
    "\n",
    "ds_roi_=list()\n",
    "for file in files:\n",
    "    with xr.open_dataset(file) as ds:\n",
    "        ds_roi = ds['sm'].sel(lon=slice(32, 40), lat=slice(5.5, -1.0))\n",
    "        print('appending', os.path.basename(file).split(\"-\")[5], end='\\r')\n",
    "        ds_roi_.append(ds_roi)\n",
    "        ds.close()\n",
    "\n",
    "    ds_roi_.append(ds_roi)\n",
    "\n",
    "ds_roi = xr.concat(ds_roi_, dim='time')"
   ]
  },
  {
   "cell_type": "code",
   "execution_count": null,
   "metadata": {},
   "outputs": [],
   "source": [
    "ds_roi.name = 'sm'\n",
    "ds_roi.to_netcdf(r\"D:\\VUB\\_data\\nc_files\\esa_cci_sm_2000_2022.nc\")"
   ]
  },
  {
   "cell_type": "code",
   "execution_count": null,
   "metadata": {},
   "outputs": [],
   "source": [
    "out_dir=r\"D:/VUB/_data/nc_files\"\n",
    "ds_combined.to_netcdf(os.path.join(out_dir, \"esa_cci_sm_2000_2022.nc\"))"
   ]
  },
  {
   "cell_type": "code",
   "execution_count": null,
   "metadata": {},
   "outputs": [],
   "source": [
    "ds_roi['sm'].plot()"
   ]
  },
  {
   "cell_type": "markdown",
   "metadata": {},
   "source": [
    "#### Carbon tracker CO2"
   ]
  },
  {
   "cell_type": "code",
   "execution_count": 2,
   "metadata": {},
   "outputs": [],
   "source": [
    "# Base URL\n",
    "base_url = \"https://gml.noaa.gov/aftp/products/carbontracker/co2/molefractions/co2_total_monthly/\"\n",
    "\n",
    "# Directory where files will be saved\n",
    "download_dir = r\"D:/VUB/_data/NOAA_CO2\"\n"
   ]
  },
  {
   "cell_type": "code",
   "execution_count": 5,
   "metadata": {},
   "outputs": [
    {
     "name": "stdout",
     "output_type": "stream",
     "text": [
      "Failed to download: 2022-12.nc (Status Code: 404)\r"
     ]
    }
   ],
   "source": [
    "# Create the download directory if it does not exist\n",
    "if not os.path.exists(download_dir):\n",
    "    os.makedirs(download_dir)\n",
    "\n",
    "# Define the date range\n",
    "years = range(2000, 2023)\n",
    "months = range(1, 13)\n",
    "#2-digit month\n",
    "months = [f\"{month:02d}\" for month in months]\n",
    "\n",
    "# Iterate through each month in the date range\n",
    "for year in years:\n",
    "    for month in months:\n",
    "    \n",
    "        # Complete URL for the file\n",
    "        file_url = f\"{base_url}{'CT2022.molefrac_glb3x2_'}{year}{'-'}{month}.nc\"\n",
    "\n",
    "        file_name = f\"{year}{'-'}{month}.nc\"\n",
    "        \n",
    "        # Download the file\n",
    "        response = requests.get(file_url)\n",
    "        \n",
    "        # Check if the request was successful\n",
    "        if response.status_code == 200:\n",
    "            with open(os.path.join(download_dir, file_name), 'wb') as f:\n",
    "                f.write(response.content)\n",
    "            print(f\"Downloaded: {file_name}\", end=\"\\r\")\n",
    "        else:\n",
    "            print(f\"Failed to download: {file_name} (Status Code: {response.status_code})\", end=\"\\r\")"
   ]
  }
 ],
 "metadata": {
  "kernelspec": {
   "display_name": "multipurpose",
   "language": "python",
   "name": "python3"
  },
  "language_info": {
   "codemirror_mode": {
    "name": "ipython",
    "version": 3
   },
   "file_extension": ".py",
   "mimetype": "text/x-python",
   "name": "python",
   "nbconvert_exporter": "python",
   "pygments_lexer": "ipython3",
   "version": "3.9.19"
  }
 },
 "nbformat": 4,
 "nbformat_minor": 2
}
