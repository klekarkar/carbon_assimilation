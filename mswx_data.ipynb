{
 "cells": [
  {
   "cell_type": "code",
   "execution_count": null,
   "metadata": {},
   "outputs": [],
   "source": [
    "import xarray as xr\n",
    "import numpy as np\n",
    "import matplotlib.pyplot as plt\n",
    "import pandas as pd\n",
    "import os\n",
    "import glob"
   ]
  },
  {
   "cell_type": "markdown",
   "metadata": {},
   "source": [
    "### Combine mswx precipitation nc files"
   ]
  },
  {
   "cell_type": "code",
   "execution_count": null,
   "metadata": {},
   "outputs": [],
   "source": [
    "src_mswx=r\"E://_data//MSWX_data//Daily/RF\"\n",
    "mswx_files=glob.glob(src_mswx+\"//*.nc\")\n",
    "\n",
    "\n",
    "#mswx_ds=xr.open_mfdataset(mswx_files)"
   ]
  },
  {
   "cell_type": "code",
   "execution_count": 7,
   "metadata": {},
   "outputs": [
    {
     "name": "stdout",
     "output_type": "stream",
     "text": [
      "concatenating...data/MSWX_data/Daily/RF\\2023365.nc\n"
     ]
    }
   ],
   "source": [
    "#concatenate all the files into a single dataset\n",
    "array_list=[]\n",
    "for mswx_file in mswx_files:\n",
    "    mswx_ds=xr.open_dataset(mswx_file)\n",
    "    #clip the dataset to study region\n",
    "    mswx_ds_region=mswx_ds.sel(lon=slice(33.8,39.5),lat=slice(5.0,-0.5))\n",
    "    print('appending: ',mswx_file, end='\\r')\n",
    "    array_list.append(mswx_ds_region)\n",
    "\n",
    "print('concatenating...')\n",
    "mswx_ds=xr.concat(array_list, dim='time')"
   ]
  },
  {
   "cell_type": "code",
   "execution_count": 11,
   "metadata": {},
   "outputs": [],
   "source": [
    "#export to netcdf\n",
    "mswx_ds.to_netcdf(os.path.join(src_mswx,\"MSWX_daily_RF_2000_2023.nc\"))"
   ]
  },
  {
   "cell_type": "markdown",
   "metadata": {},
   "source": [
    "#### compute standardized anomalies"
   ]
  },
  {
   "cell_type": "code",
   "execution_count": null,
   "metadata": {},
   "outputs": [],
   "source": [
    "#"
   ]
  }
 ],
 "metadata": {
  "kernelspec": {
   "display_name": "multipurpose",
   "language": "python",
   "name": "python3"
  },
  "language_info": {
   "codemirror_mode": {
    "name": "ipython",
    "version": 3
   },
   "file_extension": ".py",
   "mimetype": "text/x-python",
   "name": "python",
   "nbconvert_exporter": "python",
   "pygments_lexer": "ipython3",
   "version": "3.12.0"
  }
 },
 "nbformat": 4,
 "nbformat_minor": 2
}
