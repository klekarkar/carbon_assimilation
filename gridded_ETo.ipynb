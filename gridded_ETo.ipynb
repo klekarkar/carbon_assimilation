{
 "cells": [
  {
   "cell_type": "code",
   "execution_count": 1,
   "metadata": {},
   "outputs": [],
   "source": [
    "#py_data_analysis environment\n",
    "import xarray as xr\n",
    "import os\n",
    "import numpy as np\n",
    "import matplotlib.pyplot as plt\n",
    "import pandas as pd\n",
    "from osgeo import gdal\n",
    "from compute_ETo import *"
   ]
  },
  {
   "cell_type": "markdown",
   "metadata": {},
   "source": [
    "#### Gridded variables of PET computation"
   ]
  },
  {
   "cell_type": "code",
   "execution_count": null,
   "metadata": {},
   "outputs": [],
   "source": [
    "#read the data\n",
    "src_path=r\"D:\\VUB\\_data\\mswx_ETo_inputs\"\n",
    "\n",
    "#read the data: All these datasets are from MSWX: https://journals.ametsoc.org/view/journals/bams/103/3/BAMS-D-21-0145.1.xml\n",
    "# Except for wind speed (10m),Tmax, Tmin and RH are at 2m height\n",
    "Tmax=xr.open_dataset(os.path.join(src_path,\"Tmax_KE_data.nc\"))\n",
    "Tmin=xr.open_dataset(os.path.join(src_path,\"Tmin_KE_data.nc\"))\n",
    "rh=xr.open_dataset(os.path.join(src_path,\"rh_KE_data.nc\"))\n",
    "ws=xr.open_dataset(os.path.join(src_path,\"Wind_KE_data.nc\"))\n",
    "# Rn_mswx=xr.open_dataset(os.path.join(src_path,\"Rn_KE_data.nc\"))\n",
    "\n",
    "#use subset of the data from 2000\n",
    "Tmax = Tmax.sel(time=slice(\"2000-01-01\", '2023-10-26'))\n",
    "Tmin = Tmin.sel(time=slice(\"2000-01-01\", '2023-10-26'))\n",
    "rh = rh.sel(time=slice(\"2000-01-01\", '2023-10-26'))\n",
    "ws = ws.sel(time=slice(\"2000-01-01\", '2023-10-26'))"
   ]
  },
  {
   "cell_type": "code",
   "execution_count": null,
   "metadata": {},
   "outputs": [],
   "source": [
    "#mean temperature\n",
    "Tmean=(Tmax['air_temperature']+Tmin['air_temperature'])/2\n",
    "Tmean=Tmean.to_dataset()\n",
    "Tmean.attrs['units']='°C'"
   ]
  },
  {
   "cell_type": "code",
   "execution_count": null,
   "metadata": {},
   "outputs": [],
   "source": [
    "#compute 2-m wind speed from 10m wind speed\n",
    "windspeed_2m=compute_2m_wind_speed(ws,10)"
   ]
  },
  {
   "cell_type": "code",
   "execution_count": null,
   "metadata": {},
   "outputs": [],
   "source": [
    "#compute slope of the saturation vapour pressure curve\n",
    "delta=compute_slope_of_vapor_pressure_curve(Tmean['air_temperature'])"
   ]
  },
  {
   "cell_type": "code",
   "execution_count": null,
   "metadata": {},
   "outputs": [],
   "source": [
    "#compute the saturation vapour pressure (es)\n",
    "es=compute_saturation_vapor_pressure(Tmax['air_temperature'],Tmin['air_temperature'])\n",
    "es=es.to_dataset()\n",
    "es=es.rename({'air_temperature':'es'})\n",
    "es.attrs['units']='kPa'"
   ]
  },
  {
   "cell_type": "code",
   "execution_count": null,
   "metadata": {},
   "outputs": [],
   "source": [
    "#compute the actual vapour pressure (ea)\n",
    "ea = es * (rh['relative_humidity']/100)\n",
    "ea = ea.rename({'es':'ea'})\n",
    "\n",
    "#compute dewpoint temperature\n",
    "td = dew_point_temperature(Tmean['air_temperature'],rh['relative_humidity'])\n",
    "ea_td = 0.6108 * np.exp((17.27 * td) / (td + 237.3))\n",
    "ea_td.name = 'ea_td'\n",
    "ea_td = ea_td.to_dataset()"
   ]
  },
  {
   "cell_type": "code",
   "execution_count": null,
   "metadata": {},
   "outputs": [],
   "source": [
    "ea_tmin=0.6108 * np.exp((17.27 * Tmin['air_temperature']) / (Tmin['air_temperature'] + 237.3))"
   ]
  },
  {
   "cell_type": "code",
   "execution_count": null,
   "metadata": {},
   "outputs": [],
   "source": [
    "#vapor pressure deficit (VPD)\n",
    "vpd=es['es']-ea['ea']\n",
    "#assign name\n",
    "vpd.name='VPD'\n",
    "#assign units\n",
    "vpd.attrs['units']='kPa'\n",
    "vpd=vpd.to_dataset()"
   ]
  },
  {
   "cell_type": "code",
   "execution_count": null,
   "metadata": {},
   "outputs": [],
   "source": [
    "ea_td['ea_td'].sel(lat=1.0,lon=36.4,method='nearest').plot(figsize=(15,3.5), c='g')\n",
    "ea['ea'].sel(lat=1.0,lon=36.4,method='nearest').plot(alpha=1, c='k')\n",
    "#ea_tmin.sel(lat=1.0,lon=36.4,method='nearest').plot(alpha=0.5, c='r')"
   ]
  },
  {
   "cell_type": "markdown",
   "metadata": {},
   "source": [
    "### Extra-terrestrial and net Radiation"
   ]
  },
  {
   "cell_type": "code",
   "execution_count": null,
   "metadata": {},
   "outputs": [],
   "source": [
    "#extract julian day from date. The choice of Tmax is arbitrary. Any other variable could be used.\n",
    "jday=Tmax.time.dt.dayofyear\n",
    "\n",
    "latitude = Tmax.lat\n",
    "longitude = Tmax.lon\n",
    "time = Tmax.time\n",
    "day_of_year = jday\n",
    "# Create a DataArray with these dimensions\n",
    "times,latitudes, longitudes  = xr.broadcast(time,latitude, longitude)\n",
    "\n",
    "# Compute Ra using the broadcasted coordinates\n",
    "Ra = extra_terrestrial_radiation(latitudes, day_of_year)\n",
    "\n",
    "# Retain the original dataset dimensions\n",
    "Ra = Ra.transpose('time','lat', 'lon')\n",
    "\n",
    "Ra.name='Ra'\n",
    "Ra.attrs['units']='MJ/m2/day'\n",
    "Ra=Ra.to_dataset()"
   ]
  },
  {
   "cell_type": "code",
   "execution_count": null,
   "metadata": {},
   "outputs": [],
   "source": [
    "#compute net radiation\n",
    "Rn=compute_net_radiation(Ra['Ra'],Tmax['air_temperature'],Tmin['air_temperature'],ea['ea'])\n",
    "Rn.name='Rn'\n",
    "Rn.attrs['units']='MJ/m2/day'\n",
    "Rn=Rn.to_dataset()"
   ]
  },
  {
   "cell_type": "markdown",
   "metadata": {},
   "source": [
    "#### Psychrometric Map\n",
    "\n",
    "> This map was generated from a DEM in QGIS"
   ]
  },
  {
   "cell_type": "code",
   "execution_count": null,
   "metadata": {},
   "outputs": [],
   "source": [
    "DEM_file=r\"D:\\VUB\\_data\\DEM\\psychrometric_constant.tif\""
   ]
  },
  {
   "cell_type": "code",
   "execution_count": null,
   "metadata": {},
   "outputs": [],
   "source": [
    "#read the first file to get the dimensions\n",
    "ds = gdal.Open(DEM_file)\n",
    "band = ds.GetRasterBand(1)\n",
    "\n",
    "#open as array\n",
    "arr = band.ReadAsArray()\n",
    "\n",
    "#get the size and coordinates\n",
    "nlat,nlon = np.shape(arr)\n",
    "b = ds.GetGeoTransform() #bbox, interval\n",
    "#get the number of rows and columns and multiply by the interval, then add to the origin to get the coordinates\n",
    "lon = np.arange(nlon)*b[1]+b[0]\n",
    "lat = np.arange(nlat)*b[5]+b[3]\n",
    "\n",
    "#assign the coordinates to the array\n",
    "arr = xr.DataArray(arr,coords=[lat,lon],dims=['lat','lon'])\n",
    "\n",
    "#assign nodata value\n",
    "psychrometric = arr.where(arr!=band.GetNoDataValue())\n",
    "\n",
    "#to reduce file size, convert to float32\n",
    "psychrometric=psychrometric.astype('float32')\n",
    "psychrometric.name='psychrometric_constant'\n",
    "\n",
    "#set projection\n",
    "psychrometric.attrs['crs'] = 'EPSG:4326'"
   ]
  },
  {
   "cell_type": "markdown",
   "metadata": {},
   "source": [
    "### Calculate components of ETo\n",
    "\n",
    "> Since ETo combines RN, wind speed and psychrometric constant and the arrays are in different resolutions,\n",
    "> Compute the numerator and denominator terms of windspeed separately i.e.\n",
    ">\n",
    "> (900/273+T) x u2 x VPD >>> wind_const_n\n",
    "> \n",
    ">  1+0.34 x u2 >>> wind_const_d"
   ]
  },
  {
   "cell_type": "code",
   "execution_count": null,
   "metadata": {},
   "outputs": [],
   "source": [
    "#wind_const_n = ((900 / Tmean)) * windspeed_2m * vpd\n",
    "T_factor=(900/(273.16+Tmean['air_temperature'])) * windspeed_2m['wind_speed'] \n",
    "T_factor.name='T_factor'\n",
    "T_factor=T_factor.to_dataset()\n",
    "wind_const_n=T_factor['T_factor']*vpd['VPD']\n",
    "wind_const_n.name='wind_const_n'\n",
    "wind_const_n=wind_const_n.to_dataset()\n",
    "\n",
    "\n",
    "#denominator\n",
    "wind_const_d = (0.34*windspeed_2m) + 1"
   ]
  },
  {
   "cell_type": "code",
   "execution_count": null,
   "metadata": {},
   "outputs": [],
   "source": [
    "#export Rn and psychrometric constant\n",
    "Rn.to_netcdf(r\"D:\\VUB\\_data\\mswx_ETo_inputs\\Rn_ROI_10km.nc\")\n",
    "psychrometric.to_netcdf(r\"D:\\VUB\\_data\\mswx_ETo_inputs\\psychrometric_constant_500m.nc\")\n",
    "wind_const_d.to_netcdf(r\"D:\\VUB\\_data\\mswx_ETo_inputs\\wind_const_d_10km.nc\")\n",
    "wind_const_n.to_netcdf(r\"D:\\VUB\\_data\\mswx_ETo_inputs\\wind_const_n_10km.nc\")\n",
    "delta.to_netcdf(r\"D:\\VUB\\_data\\mswx_ETo_inputs\\delta_10km.nc\")"
   ]
  },
  {
   "cell_type": "code",
   "execution_count": null,
   "metadata": {},
   "outputs": [],
   "source": [
    "vpd.to_netcdf(r\"D:\\VUB\\_data\\mswx_ETo_inputs\\VPD_10km.nc\")"
   ]
  },
  {
   "cell_type": "markdown",
   "metadata": {},
   "source": [
    "#### Further Processing using the xesmf_regidding.ipynb\n",
    "\n",
    ">Because of problems of package compatibility in the environment (xesmf broke the env), regridding the datasets to a uniform resolution and finalizing ETo calculation will be completed in a different notebook"
   ]
  }
 ],
 "metadata": {
  "kernelspec": {
   "display_name": "py_data_analysis",
   "language": "python",
   "name": "python3"
  },
  "language_info": {
   "codemirror_mode": {
    "name": "ipython",
    "version": 3
   },
   "file_extension": ".py",
   "mimetype": "text/x-python",
   "name": "python",
   "nbconvert_exporter": "python",
   "pygments_lexer": "ipython3",
   "version": "3.9.19"
  }
 },
 "nbformat": 4,
 "nbformat_minor": 2
}
