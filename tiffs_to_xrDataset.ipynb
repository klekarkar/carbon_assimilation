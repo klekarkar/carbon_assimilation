{
 "cells": [
  {
   "cell_type": "code",
   "execution_count": 1,
   "metadata": {},
   "outputs": [],
   "source": [
    "import glob\n",
    "import os\n",
    "import pandas as pd\n",
    "import xarray as xr\n",
    "import matplotlib.pyplot as plt\n",
    "from convert_geotiff_to_dataset import merge_Gtiffs_to_Dataset\n",
    "from osgeo import gdal"
   ]
  },
  {
   "cell_type": "markdown",
   "metadata": {},
   "source": [
    "#### Get subdatasets from hdf files"
   ]
  },
  {
   "cell_type": "code",
   "execution_count": null,
   "metadata": {},
   "outputs": [],
   "source": [
    "#sample file to extract subdatasets\n",
    "fl=r\"D:\\VUB\\_data\\modis_ET\\hdf_files\\MOD16A2GF.A2000001.h21v08.061.2020256104621.hdf\"\n",
    "gdal.Open(fl,gdal.GA_ReadOnly)\n",
    "\n",
    "\n",
    "#Get subdatasets. hdf files contain multiple subdatasets\n",
    "subdatasets = gdal.Open(fl,gdal.GA_ReadOnly).GetSubDatasets()\n",
    "subdatasets\n",
    "\n",
    "#extracting each subdataset\n",
    "subdataset_list=list()\n",
    "for i in range(len(subdatasets)):\n",
    "    #extracting the subdataset\n",
    "    sds = gdal.Open(subdatasets[i][0], gdal.GA_ReadOnly)\n",
    "    sub_dataset=subdatasets[i][0].split(':')[-1]\n",
    "    subdataset_list.append(sub_dataset)"
   ]
  },
  {
   "cell_type": "code",
   "execution_count": null,
   "metadata": {},
   "outputs": [],
   "source": [
    "subdataset_list"
   ]
  },
  {
   "cell_type": "code",
   "execution_count": null,
   "metadata": {},
   "outputs": [],
   "source": [
    "subdatasets[1][0]"
   ]
  },
  {
   "cell_type": "markdown",
   "metadata": {},
   "source": [
    "#### Extract clipped GeoTiff for a specified hdf subdataset"
   ]
  },
  {
   "cell_type": "code",
   "execution_count": null,
   "metadata": {},
   "outputs": [],
   "source": [
    "input_files = glob.glob(r\"D:/VUB/_data/modis_ET/hdf_files/*.hdf\")\n",
    "input_files.sort()\n",
    "\n",
    "out_folder_name = subdatasets[1][0].split(':')[-1]\n",
    "out_folder = f\"D:/VUB/_data/modis_ET/tiff_files/{out_folder_name}\"\n",
    "if not os.path.exists(out_folder):\n",
    "    os.makedirs(out_folder, exist_ok=True)\n",
    "\n",
    "for fl in input_files[2011:]:      \n",
    "    #check files with 21v08 in the name\n",
    "    if '21v08' in fl:\n",
    "\n",
    "        out_file = f\"{out_folder}/{os.path.basename(fl).replace('.hdf','.tif')}\"\n",
    "\n",
    "        # open dataset\n",
    "        dataset = gdal.Open(fl,gdal.GA_ReadOnly)\n",
    "\n",
    "        #Extracting the subdataset corresponding to LAI\n",
    "        subdataset =  gdal.Open(dataset.GetSubDatasets()[1][0], gdal.GA_ReadOnly)\n",
    "        \n",
    "        # gdalwarp\n",
    "        kwargs = {'format': 'GTiff', 'dstSRS': 'EPSG:4326', 'outputBounds': [33.8, 0.00, 39.5, 5.0],'creationOptions': ['COMPRESS=LZW']}\n",
    "        print(f\"Processing {out_file}\", end='\\r')\n",
    "        ds = gdal.Warp(destNameOrDestDS=out_file,srcDSOrSrcDSTab=subdataset, **kwargs)\n",
    "        del ds"
   ]
  },
  {
   "cell_type": "markdown",
   "metadata": {},
   "source": [
    "#### Convert GeoTiff to netCDF"
   ]
  },
  {
   "cell_type": "code",
   "execution_count": 4,
   "metadata": {},
   "outputs": [],
   "source": [
    "files=glob.glob(r\"D:/VUB/_data/modis_ET/tiff_files/LE_500m/*.tif\")\n",
    "files.sort()\n",
    "#define variables names from the files\n",
    "\n",
    "first_var=[file for file in files if 'LE' in file]\n",
    "#second_var=[file for file in files if 'LST_Night' in file]\n",
    "#deep_profile_sm=[file for file in files if 'SoilMoist_P_tavg' in file]\n",
    "\n",
    "var_list=[first_var]"
   ]
  },
  {
   "cell_type": "markdown",
   "metadata": {},
   "source": [
    "##### Extracting date"
   ]
  },
  {
   "cell_type": "code",
   "execution_count": null,
   "metadata": {},
   "outputs": [],
   "source": [
    "#for files with jday\n",
    "year = os.path.basename(var_list[0][0]).split('.')[1][1:5]\n",
    "julian_day = os.path.basename(var_list[0][0]).split('.')[1][5:]\n",
    "date_string = f\"{year}{julian_day}\"\n",
    "date = pd.to_datetime(date_string, format='%Y%j')\n",
    "date"
   ]
  },
  {
   "cell_type": "code",
   "execution_count": null,
   "metadata": {},
   "outputs": [],
   "source": [
    "#for files with this format: MODIS_2023_09_30_LST_Day\n",
    "\n",
    "year = os.path.basename(var_list[0][0]).split('_')[1]\n",
    "month = os.path.basename(var_list[0][0]).split('_')[2]\n",
    "day = os.path.basename(var_list[0][0]).split('_')[3]\n",
    "date_string = f\"{year}{month}{day}\"\n",
    "date = pd.to_datetime(date_string, format='%Y%m%d')\n",
    "# date"
   ]
  },
  {
   "cell_type": "code",
   "execution_count": null,
   "metadata": {},
   "outputs": [],
   "source": [
    "var = os.path.basename(var_list[0][0]).split('.')[0][17:]\n",
    "var"
   ]
  },
  {
   "cell_type": "markdown",
   "metadata": {},
   "source": [
    "##### Convert to xr.Dataset"
   ]
  },
  {
   "cell_type": "code",
   "execution_count": 5,
   "metadata": {},
   "outputs": [
    {
     "name": "stderr",
     "output_type": "stream",
     "text": [
      "c:\\Users\\kart\\anaconda3\\envs\\py_data_analysis\\lib\\site-packages\\osgeo\\gdal.py:312: FutureWarning: Neither gdal.UseExceptions() nor gdal.DontUseExceptions() has been explicitly called. In GDAL 4.0, exceptions will be enabled by default.\n",
      "  warnings.warn(\n"
     ]
    },
    {
     "name": "stdout",
     "output_type": "stream",
     "text": [
      "Saving the dataset ata/modis_ET/tiff_files/LE_500m\\MOD16A2GF.A2023361.h21v08.061.2024038103258.tif\n",
      "\n",
      "Saved the LE dataset\n"
     ]
    }
   ],
   "source": [
    "var_dataset_list=[]\n",
    "for i in range(len(var_list)):\n",
    "    #variable=os.path.basename(profile[0]).split('_')[2]+'_'+os.path.basename(profile[0]).split('_')[3] \n",
    "    #variable=os.path.basename(profile[0]).split('.')[0][14:] #for gldas files\n",
    "    #var_name=os.path.basename(var_list[i][0]).split('.')[0][17:]\n",
    "    var_name = \"LE\"\n",
    "    #define units\n",
    "    # if var_name=='LST_Day'or var_name=='LST_Night':\n",
    "    units='J/m^2/day'\n",
    "    # elif variable=='Ec':\n",
    "    #     units='mm'\n",
    "    var_dataset=merge_Gtiffs_to_Dataset(files=var_list[i][:],variable=var_name, units=units) #(files: list, variable: str, year, month, day, units: str):\n",
    "    #append to list\n",
    "    var_dataset_list.append(var_dataset)\n",
    "\n",
    "#merge datasets\n",
    "var_dataset2=xr.merge(var_dataset_list)"
   ]
  },
  {
   "cell_type": "code",
   "execution_count": null,
   "metadata": {},
   "outputs": [],
   "source": [
    "len(files) #0:500, 500: #change var_dataset2"
   ]
  },
  {
   "cell_type": "code",
   "execution_count": 7,
   "metadata": {},
   "outputs": [],
   "source": [
    "#merge the two datasets\n",
    "dataset = xr.merge([var_dataset,var_dataset2])"
   ]
  },
  {
   "cell_type": "code",
   "execution_count": 13,
   "metadata": {},
   "outputs": [],
   "source": [
    "dataset.attrs['units']='J/m^2/day\t'\n",
    "dataset.attrs['long_name']='MOD16A2GF.061 Average latent heat flux'\n",
    "dataset.attrs['scale_factor']= 10000\n",
    "\n",
    "#replace -9999 with nan and apply scaling factor\n",
    "dataset=(dataset.where(var_dataset!=-9999)).astype('float32')"
   ]
  },
  {
   "cell_type": "code",
   "execution_count": 8,
   "metadata": {},
   "outputs": [],
   "source": [
    "var_dataset2.to_netcdf(r\"D:/VUB/_data/nc_files/modis_LE_2000_2023.nc\")"
   ]
  },
  {
   "cell_type": "markdown",
   "metadata": {},
   "source": [
    "#### Data exploration"
   ]
  },
  {
   "cell_type": "code",
   "execution_count": 2,
   "metadata": {},
   "outputs": [],
   "source": [
    "modisLAI = xr.open_dataset(r\"D:\\VUB\\_data\\nc_files\\modis_terra_LAI_2000_2024.nc\")"
   ]
  },
  {
   "cell_type": "code",
   "execution_count": null,
   "metadata": {},
   "outputs": [],
   "source": [
    "var_dataset['LST_Day'].sel(lat =slice(4.0, 1.0), lon = slice(36.4, 37.4)).mean(dim=['lat','lon']).plot(figsize=(12,5))"
   ]
  },
  {
   "cell_type": "code",
   "execution_count": 7,
   "metadata": {},
   "outputs": [],
   "source": [
    "#bulk surface resistance (100/0.5 * LAI)\n",
    "\n",
    "bulk_surface_resistance=2/(modisLAI)\n",
    "\n",
    "bulk_surface_resistance = bulk_surface_resistance.rename({'LAI':'rs'})\n",
    "bulk_surface_resistance.attrs['units']='s/m'\n",
    "bulk_surface_resistance.attrs['long_name']='bulk surface resistance'"
   ]
  },
  {
   "cell_type": "code",
   "execution_count": null,
   "metadata": {},
   "outputs": [],
   "source": [
    "bulk_surface_resistance['rs'].sel(lat =slice(2.0, 4.0), lon = slice(37.4, 39.4)).mean(dim=['lat','lon']).plot(figsize=(12,5))"
   ]
  },
  {
   "cell_type": "code",
   "execution_count": 23,
   "metadata": {},
   "outputs": [],
   "source": [
    "lai_ts=modisLAI['LAI'].sel(lat =slice(1.0, 3.0), lon = slice(36.4, 38.4)).mean(dim=['lat','lon'])\n",
    "lai_df = lai_ts.to_dataframe()"
   ]
  },
  {
   "cell_type": "code",
   "execution_count": null,
   "metadata": {},
   "outputs": [],
   "source": [
    "(2000/lai_df).plot(figsize=(12,5))"
   ]
  },
  {
   "cell_type": "code",
   "execution_count": null,
   "metadata": {},
   "outputs": [],
   "source": [
    "import seaborn as sns\n",
    "sns.boxplot(data=(2000/lai_df))"
   ]
  },
  {
   "cell_type": "code",
   "execution_count": 8,
   "metadata": {},
   "outputs": [],
   "source": [
    "#resample to monthly\n",
    "var_dataset_mean_monthly=var_dataset.resample(time='ME').sum()\n",
    "\n",
    "#export to netcdf\n",
    "var_dataset_mean_monthly.to_netcdf(r\"D:/VUB/_data/nc_files\\GLDAS_GWS_monthly.nc\")"
   ]
  },
  {
   "cell_type": "markdown",
   "metadata": {},
   "source": [
    "#### For Land surface Temperature"
   ]
  },
  {
   "cell_type": "code",
   "execution_count": 31,
   "metadata": {},
   "outputs": [],
   "source": [
    "#calculate daily mean temperatureLST\n",
    "var_dataset_mean=(var_dataset['LST_Day']+var_dataset['LST_Night'])/2\n",
    "#convert from K to C\n",
    "var_dataset_mean=var_dataset_mean-273.15\n",
    "\n",
    "\n",
    "var_dataset_mean=var_dataset_mean.rename('LST')\n",
    "var_dataset_mean.to_dataset()\n",
    "\n",
    "var_dataset_mean.attrs['units']='deg C'\n",
    "var_dataset_mean.attrs['name']='LST_daily_mean'\n",
    "var_dataset_mean.attrs['description']='MOD21C2.061 Terra Land Surface Temperature mean of 8-day LST_Day and LST_Night'"
   ]
  },
  {
   "cell_type": "code",
   "execution_count": 32,
   "metadata": {},
   "outputs": [],
   "source": [
    "#Export to netcdf\n",
    "var_dataset_mean.to_netcdf(r\"D:/VUB/_data/nc_files/modis_LST_8day_2000_2004.nc\")"
   ]
  },
  {
   "cell_type": "code",
   "execution_count": 62,
   "metadata": {},
   "outputs": [],
   "source": [
    "#resample to monthly\n",
    "var_dataset_mean_monthly=var_dataset_mean.resample(time='ME').mean()\n",
    "var_dataset_mean_monthly=var_dataset_mean_monthly.rename('LST_monthly_mean')\n",
    "var_dataset_mean_monthly.attrs['units']='K'\n",
    "var_dataset_mean_monthly.attrs['name']='LST_monthly_mean'\n",
    "var_dataset_mean_monthly=var_dataset_mean_monthly.to_dataset()"
   ]
  },
  {
   "cell_type": "code",
   "execution_count": null,
   "metadata": {},
   "outputs": [],
   "source": [
    "var_dataset_mean[2].plot(figsize=(10, 6), cmap='RdBu_r')"
   ]
  },
  {
   "cell_type": "code",
   "execution_count": 65,
   "metadata": {},
   "outputs": [],
   "source": [
    "#export to netcdf\n",
    "# var_dataset.to_netcdf(r\"D:/VUB/_data/nc_files/grace_tws.nc\")\n",
    "var_dataset_mean_monthly.to_netcdf(r\"D:/VUB/_data/nc_files/modis_terra_LST_mon.nc\")"
   ]
  },
  {
   "cell_type": "code",
   "execution_count": null,
   "metadata": {},
   "outputs": [],
   "source": [
    "fig,ax=plt.subplots(figsize=(10,3.5))\n",
    "[36.4, 0.9, 36.6, 1.1]\n",
    "#slice by region\n",
    "var_dataset_mean_monthly['LST_monthly_mean'].sel(lat=slice(1.1,0.9),lon=slice(36.4,36.6)).mean(dim=['lat','lon']).plot(ax=ax, label='0-10cm')\n",
    "#plot on secondary axis\n",
    "ax2=ax.twinx()\n",
    "# var_dataset['TWS_tavg'].sel(lat=slice(1.1,0.9),lon=slice(36.4,36.6)).mean(dim=['lat','lon']).plot(ax=ax2, label='10-40cm', color='red')\n",
    "plt.legend()"
   ]
  }
 ],
 "metadata": {
  "kernelspec": {
   "display_name": "multipurpose",
   "language": "python",
   "name": "python3"
  },
  "language_info": {
   "codemirror_mode": {
    "name": "ipython",
    "version": 3
   },
   "file_extension": ".py",
   "mimetype": "text/x-python",
   "name": "python",
   "nbconvert_exporter": "python",
   "pygments_lexer": "ipython3",
   "version": "3.9.19"
  }
 },
 "nbformat": 4,
 "nbformat_minor": 2
}
